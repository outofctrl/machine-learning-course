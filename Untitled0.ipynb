{
  "nbformat": 4,
  "nbformat_minor": 0,
  "metadata": {
    "colab": {
      "provenance": [],
      "authorship_tag": "ABX9TyMWlE7mfpT8Jnf0TRBDLOKt",
      "include_colab_link": true
    },
    "kernelspec": {
      "name": "python3",
      "display_name": "Python 3"
    },
    "language_info": {
      "name": "python"
    }
  },
  "cells": [
    {
      "cell_type": "markdown",
      "metadata": {
        "id": "view-in-github",
        "colab_type": "text"
      },
      "source": [
        "<a href=\"https://colab.research.google.com/github/outofctrl/machine-learning-course/blob/main/Untitled0.ipynb\" target=\"_parent\"><img src=\"https://colab.research.google.com/assets/colab-badge.svg\" alt=\"Open In Colab\"/></a>"
      ]
    },
    {
      "cell_type": "code",
      "execution_count": 2,
      "metadata": {
        "colab": {
          "base_uri": "https://localhost:8080/"
        },
        "id": "hlPi3_gTITyM",
        "outputId": "3a200c39-6c64-44a0-ebc4-18cd620994f4"
      },
      "outputs": [
        {
          "output_type": "stream",
          "name": "stdout",
          "text": [
            "hello\n"
          ]
        }
      ],
      "source": [
        "print('hello')"
      ]
    },
    {
      "cell_type": "markdown",
      "source": [
        "czesc moj pierwszy notebooku!\n"
      ],
      "metadata": {
        "id": "R-GjVlErIdLq"
      }
    },
    {
      "cell_type": "markdown",
      "source": [
        "wpis numer dwa\n"
      ],
      "metadata": {
        "id": "vMTHJQ0aIhSf"
      }
    },
    {
      "cell_type": "markdown",
      "source": [
        "wpis numer trzy\n"
      ],
      "metadata": {
        "id": "zHlN1agJJS30"
      }
    }
  ]
}